{
 "cells": [
  {
   "cell_type": "markdown",
   "metadata": {},
   "source": [
    "### Imports"
   ]
  },
  {
   "cell_type": "code",
   "execution_count": 1,
   "metadata": {},
   "outputs": [],
   "source": [
    "#!pip install python-pptx\n",
    "from pptx import Presentation\n",
    "from pptx.util import Inches, Pt\n",
    "from pptx.enum.shapes import MSO_SHAPE"
   ]
  },
  {
   "cell_type": "markdown",
   "metadata": {},
   "source": [
    "### Starting PPT and creating first slide"
   ]
  },
  {
   "cell_type": "code",
   "execution_count": 2,
   "metadata": {},
   "outputs": [],
   "source": [
    "prs = Presentation()\n",
    "title_slide_layout = prs.slide_layouts[0]\n",
    "slide = prs.slides.add_slide(title_slide_layout)\n",
    "title = slide.shapes.title\n",
    "subtitle = slide.placeholders[1]\n",
    "\n",
    "title.text = \"Hello, World!\"\n",
    "subtitle.text = \"IDC Cancer Detection using WideResNet made easy with Deepcognition.ai\"\n"
   ]
  },
  {
   "cell_type": "markdown",
   "metadata": {},
   "source": [
    "### Using bullets"
   ]
  },
  {
   "cell_type": "code",
   "execution_count": 3,
   "metadata": {},
   "outputs": [],
   "source": [
    "bullet_slide_layout = prs.slide_layouts[1]\n",
    "\n",
    "slide = prs.slides.add_slide(bullet_slide_layout)\n",
    "shapes = slide.shapes\n",
    "\n",
    "title_shape = shapes.title\n",
    "body_shape = shapes.placeholders[1]\n",
    "\n",
    "title_shape.text = 'STEPS'\n",
    "\n",
    "tf = body_shape.text_frame\n",
    "\n",
    "text=['Go to deepcognition.ai and create a new project.',\n",
    "      'Select Kaggle_IDC_Cancer dataset keep the default split and choose full dataset if you have enough resources.',\n",
    "      'Create the model using drag and drop options from the left side.',\n",
    "      'Select the GPU (I used GPU-K80-12GB ($0.9/hr)), start the training (wait....).',\n",
    "      'Check the Results.',\n",
    "      'You can also save the model.'\n",
    "     ]\n",
    "for i in text:\n",
    "    p=tf.add_paragraph()\n",
    "    p.text = i\n",
    "    p.level=0\n",
    "    p.font.bold = False\n",
    "    p.font.size = Pt(16)\n"
   ]
  },
  {
   "cell_type": "markdown",
   "metadata": {},
   "source": [
    "### Adding shapes"
   ]
  },
  {
   "cell_type": "code",
   "execution_count": 4,
   "metadata": {},
   "outputs": [],
   "source": [
    "title_only_slide_layout = prs.slide_layouts[5]\n",
    "slide = prs.slides.add_slide(title_only_slide_layout)\n",
    "shapes = slide.shapes\n",
    "\n",
    "shapes.title.text = 'Screenshots'\n",
    "\n",
    "left = Inches(0.1)  \n",
    "top = Inches(3.0)\n",
    "width = Inches(1.65)\n",
    "height = Inches(2)\n",
    "\n",
    "text=['Project','Data','Model','Hyper\\nParameters','Training \\n Loss \\n&\\nAccuracy','Validation \\n Loss \\n&\\n Accuracy']\n",
    "for n in range(0, 6):\n",
    "    shape = shapes.add_shape(MSO_SHAPE.CHEVRON, left, top, width, height)\n",
    "    shape.text = text[n]\n",
    "    left = left + width - Inches(0.1)\n"
   ]
  },
  {
   "cell_type": "markdown",
   "metadata": {},
   "source": [
    "### Adding images"
   ]
  },
  {
   "cell_type": "code",
   "execution_count": 5,
   "metadata": {},
   "outputs": [],
   "source": [
    "img=['1.png','2.png','3.png','4.png','5.png','6.png','7.png','8.png']\n",
    "for i in img:\n",
    "    blank_slide_layout = prs.slide_layouts[6]\n",
    "    slide = prs.slides.add_slide(blank_slide_layout)\n",
    "    left = top = Inches(0.5)\n",
    "    pic = slide.shapes.add_picture(i, left, top, height=None, width=None)\n",
    "\n"
   ]
  },
  {
   "cell_type": "markdown",
   "metadata": {},
   "source": [
    "### Adding table"
   ]
  },
  {
   "cell_type": "code",
   "execution_count": 6,
   "metadata": {},
   "outputs": [],
   "source": [
    "title_only_slide_layout = prs.slide_layouts[5]\n",
    "slide = prs.slides.add_slide(title_only_slide_layout)\n",
    "shapes = slide.shapes\n",
    "\n",
    "shapes.title.text = 'Results'\n",
    "\n",
    "rows = 5\n",
    "cols = 2\n",
    "left = top = Inches(2.0)\n",
    "width = Inches(6.0)\n",
    "height = Inches(0.8)\n",
    "\n",
    "table = shapes.add_table(rows, cols, left, top, width, height).table\n",
    "\n",
    "# set column widths\n",
    "table.columns[0].width = Inches(2.0)\n",
    "table.columns[1].width = Inches(4.0)\n",
    "\n",
    "# write column headings\n",
    "table.cell(0, 0).text = 'Metric'\n",
    "table.cell(0, 1).text = 'Result (%)'\n",
    "\n",
    "# write body cells\n",
    "\n",
    "table.cell(1, 0).text = 'Training Loss'\n",
    "table.cell(1, 1).text = '0.1658548'\n",
    "\n",
    "table.cell(2, 0).text = 'Training Accuracy'\n",
    "table.cell(2, 1).text = '0.9336477'\n",
    "\n",
    "table.cell(3, 0).text = 'Validation Loss'\n",
    "table.cell(3, 1).text = '0.4321579'\n",
    "\n",
    "table.cell(4, 0).text = 'Validation Accuracy'\n",
    "table.cell(4, 1).text = '0.8433883'\n"
   ]
  },
  {
   "cell_type": "markdown",
   "metadata": {},
   "source": [
    "### Adding textbox"
   ]
  },
  {
   "cell_type": "code",
   "execution_count": 7,
   "metadata": {},
   "outputs": [],
   "source": [
    "blank_slide_layout = prs.slide_layouts[6]\n",
    "slide = prs.slides.add_slide(blank_slide_layout)\n",
    "left1 = top1 = Inches(1)\n",
    "width1 = height1 = Inches(10)\n",
    "txBox = slide.shapes.add_textbox(left1, top1, width1, height1)\n",
    "tf = txBox.text_frame\n",
    "tf.text = \"Presented by Akansha Jain\"\n",
    "p = tf.add_paragraph()\n",
    "p.text = \"\\n \\n This presentation was made using python ♥\"\n",
    "p.font.bold = True\n",
    "p.font.size = Pt(34)\n"
   ]
  },
  {
   "cell_type": "markdown",
   "metadata": {},
   "source": [
    "### Saving final PPT"
   ]
  },
  {
   "cell_type": "code",
   "execution_count": 8,
   "metadata": {},
   "outputs": [],
   "source": [
    "prs.save('IDC.pptx')\n"
   ]
  }
 ],
 "metadata": {
  "kernelspec": {
   "display_name": "Python 3",
   "language": "python",
   "name": "python3"
  },
  "language_info": {
   "codemirror_mode": {
    "name": "ipython",
    "version": 3
   },
   "file_extension": ".py",
   "mimetype": "text/x-python",
   "name": "python",
   "nbconvert_exporter": "python",
   "pygments_lexer": "ipython3",
   "version": "3.6.3"
  }
 },
 "nbformat": 4,
 "nbformat_minor": 2
}
